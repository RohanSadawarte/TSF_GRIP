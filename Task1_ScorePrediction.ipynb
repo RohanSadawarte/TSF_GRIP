{
  "nbformat": 4,
  "nbformat_minor": 0,
  "metadata": {
    "colab": {
      "name": "Task1_ScorePrediction.ipynb",
      "provenance": [],
      "collapsed_sections": []
    },
    "kernelspec": {
      "name": "python3",
      "display_name": "Python 3"
    }
  },
  "cells": [
    {
      "cell_type": "code",
      "metadata": {
        "id": "pplElSD_sD8V"
      },
      "source": [
        "#Importing necessary libraries\r\n",
        "import numpy as np\r\n",
        "import pandas as pd\r\n",
        "import matplotlib.pyplot as plt"
      ],
      "execution_count": null,
      "outputs": []
    },
    {
      "cell_type": "code",
      "metadata": {
        "id": "30_xzECdsz5-"
      },
      "source": [
        "#Importing data\r\n",
        "url = \"http://bit.ly/w-data\"\r\n",
        "data = pd.read_csv(url)"
      ],
      "execution_count": null,
      "outputs": []
    },
    {
      "cell_type": "code",
      "metadata": {
        "colab": {
          "base_uri": "https://localhost:8080/",
          "height": 494
        },
        "id": "rWdfpn_As93z",
        "outputId": "29aa2112-5f3d-4d17-97e4-291e62de19f7"
      },
      "source": [
        "#Data Analysis\r\n",
        "print(\"Data Shape: \")\r\n",
        "print(data.shape)\r\n",
        "print(\"\\nData Description: \")\r\n",
        "print(data.dtypes)\r\n",
        "print(\"\\nData : \")\r\n",
        "data.head(10)"
      ],
      "execution_count": null,
      "outputs": [
        {
          "output_type": "stream",
          "text": [
            "Data Shape: \n",
            "(25, 2)\n",
            "\n",
            "Data Description: \n",
            "Hours     float64\n",
            "Scores      int64\n",
            "dtype: object\n",
            "\n",
            "Data : \n"
          ],
          "name": "stdout"
        },
        {
          "output_type": "execute_result",
          "data": {
            "text/html": [
              "<div>\n",
              "<style scoped>\n",
              "    .dataframe tbody tr th:only-of-type {\n",
              "        vertical-align: middle;\n",
              "    }\n",
              "\n",
              "    .dataframe tbody tr th {\n",
              "        vertical-align: top;\n",
              "    }\n",
              "\n",
              "    .dataframe thead th {\n",
              "        text-align: right;\n",
              "    }\n",
              "</style>\n",
              "<table border=\"1\" class=\"dataframe\">\n",
              "  <thead>\n",
              "    <tr style=\"text-align: right;\">\n",
              "      <th></th>\n",
              "      <th>Hours</th>\n",
              "      <th>Scores</th>\n",
              "    </tr>\n",
              "  </thead>\n",
              "  <tbody>\n",
              "    <tr>\n",
              "      <th>0</th>\n",
              "      <td>2.5</td>\n",
              "      <td>21</td>\n",
              "    </tr>\n",
              "    <tr>\n",
              "      <th>1</th>\n",
              "      <td>5.1</td>\n",
              "      <td>47</td>\n",
              "    </tr>\n",
              "    <tr>\n",
              "      <th>2</th>\n",
              "      <td>3.2</td>\n",
              "      <td>27</td>\n",
              "    </tr>\n",
              "    <tr>\n",
              "      <th>3</th>\n",
              "      <td>8.5</td>\n",
              "      <td>75</td>\n",
              "    </tr>\n",
              "    <tr>\n",
              "      <th>4</th>\n",
              "      <td>3.5</td>\n",
              "      <td>30</td>\n",
              "    </tr>\n",
              "    <tr>\n",
              "      <th>5</th>\n",
              "      <td>1.5</td>\n",
              "      <td>20</td>\n",
              "    </tr>\n",
              "    <tr>\n",
              "      <th>6</th>\n",
              "      <td>9.2</td>\n",
              "      <td>88</td>\n",
              "    </tr>\n",
              "    <tr>\n",
              "      <th>7</th>\n",
              "      <td>5.5</td>\n",
              "      <td>60</td>\n",
              "    </tr>\n",
              "    <tr>\n",
              "      <th>8</th>\n",
              "      <td>8.3</td>\n",
              "      <td>81</td>\n",
              "    </tr>\n",
              "    <tr>\n",
              "      <th>9</th>\n",
              "      <td>2.7</td>\n",
              "      <td>25</td>\n",
              "    </tr>\n",
              "  </tbody>\n",
              "</table>\n",
              "</div>"
            ],
            "text/plain": [
              "   Hours  Scores\n",
              "0    2.5      21\n",
              "1    5.1      47\n",
              "2    3.2      27\n",
              "3    8.5      75\n",
              "4    3.5      30\n",
              "5    1.5      20\n",
              "6    9.2      88\n",
              "7    5.5      60\n",
              "8    8.3      81\n",
              "9    2.7      25"
            ]
          },
          "metadata": {
            "tags": []
          },
          "execution_count": 25
        }
      ]
    },
    {
      "cell_type": "code",
      "metadata": {
        "colab": {
          "base_uri": "https://localhost:8080/",
          "height": 295
        },
        "id": "2g0dgQBttNNR",
        "outputId": "52eb868a-1193-4771-ad5c-935190c063f0"
      },
      "source": [
        "# Data Visualization\r\n",
        "data.plot(x='Hours', y='Scores', style='o')  \r\n",
        "plt.title('Hours vs Percentage')  \r\n",
        "plt.xlabel('Hours Studied')  \r\n",
        "plt.ylabel('Percentage Score')  \r\n",
        "plt.show()"
      ],
      "execution_count": null,
      "outputs": [
        {
          "output_type": "display_data",
          "data": {
            "image/png": "[encoded data removed]",
            "text/plain": [
              "<Figure size 432x288 with 1 Axes>"
            ]
          },
          "metadata": {
            "tags": [],
            "needs_background": "light"
          }
        }
      ]
    },
    {
      "cell_type": "code",
      "metadata": {
        "id": "usI3gLYTvuEC"
      },
      "source": [
        "#Preparing Data\r\n",
        "X = data.iloc[:, :-1].values  \r\n",
        "y = data.iloc[:, 1].values  \r\n"
      ],
      "execution_count": null,
      "outputs": []
    },
    {
      "cell_type": "code",
      "metadata": {
        "id": "8qei1TExwcin"
      },
      "source": [
        "#Splitting data into train set and test set\r\n",
        "from sklearn.model_selection import train_test_split  \r\n",
        "\r\n",
        "X_train, X_test, y_train, y_test = train_test_split(X, y, test_size=0.2, random_state=2) "
      ],
      "execution_count": null,
      "outputs": []
    },
    {
      "cell_type": "code",
      "metadata": {
        "colab": {
          "base_uri": "https://localhost:8080/"
        },
        "id": "t65KRxtXwz61",
        "outputId": "923924ea-eaf1-441a-d7ee-cbbf9eb6e17b"
      },
      "source": [
        "#Applying linear regression model\r\n",
        "from sklearn.linear_model import LinearRegression  \r\n",
        "\r\n",
        "regressor = LinearRegression()  \r\n",
        "regressor.fit(X_train, y_train) "
      ],
      "execution_count": null,
      "outputs": [
        {
          "output_type": "execute_result",
          "data": {
            "text/plain": [
              "LinearRegression(copy_X=True, fit_intercept=True, n_jobs=None, normalize=False)"
            ]
          },
          "metadata": {
            "tags": []
          },
          "execution_count": 75
        }
      ]
    },
    {
      "cell_type": "code",
      "metadata": {
        "colab": {
          "base_uri": "https://localhost:8080/",
          "height": 346
        },
        "id": "Pon_4rQ0x81Y",
        "outputId": "0d789d22-92bd-4181-ae30-342d0b6435a5"
      },
      "source": [
        "# Plotting the regression line\r\n",
        "print(\"Slope (m): \" + str(regressor.coef_))\r\n",
        "print(\"Y intercept (c): \" + str(regressor.intercept_))\r\n",
        "#Line: y = mx + c\r\n",
        "line = regressor.coef_*X+regressor.intercept_\r\n",
        "print()\r\n",
        "# Plotting for the test data\r\n",
        "plt.scatter(X, y)\r\n",
        "plt.plot(X, line);\r\n",
        "plt.title('Hours vs Percentage')  \r\n",
        "plt.xlabel('Hours Studied')  \r\n",
        "plt.ylabel('Percentage Score') \r\n",
        "plt.show()"
      ],
      "execution_count": null,
      "outputs": [
        {
          "output_type": "stream",
          "text": [
            "Slope (m): [9.94061514]\n",
            "Y intercept (c): 1.5079104828268939\n",
            "\n"
          ],
          "name": "stdout"
        },
        {
          "output_type": "display_data",
          "data": {
            "image/png": "[encoded data removed]",
            "text/plain": [
              "<Figure size 432x288 with 1 Axes>"
            ]
          },
          "metadata": {
            "tags": [],
            "needs_background": "light"
          }
        }
      ]
    },
    {
      "cell_type": "code",
      "metadata": {
        "id": "qVOZMjvk36-u"
      },
      "source": [
        "#Predicting test dataset\r\n",
        "y_pred = regressor.predict(X_test)"
      ],
      "execution_count": null,
      "outputs": []
    },
    {
      "cell_type": "code",
      "metadata": {
        "colab": {
          "base_uri": "https://localhost:8080/"
        },
        "id": "kQfSw3Bp5BUy",
        "outputId": "60dafa7d-3905-4adf-fa2d-222a17bbd50f"
      },
      "source": [
        "# Comparing Actual vs Predicted test data on hours\r\n",
        "for i in range(len(y_test)):\r\n",
        "  print(\"Hours :\"+str(X_test[i]))\r\n",
        "  print(\"Actual :\"+str(y_test[i]))\r\n",
        "  print(\"Predicted :\"+str(y_pred[i]))\r\n",
        "  print()"
      ],
      "execution_count": null,
      "outputs": [
        {
          "output_type": "stream",
          "text": [
            "Hours :[1.1]\n",
            "Actual :17\n",
            "Predicted :12.44258714027924\n",
            "\n",
            "Hours :[2.5]\n",
            "Actual :21\n",
            "Predicted :26.359448340673133\n",
            "\n",
            "Hours :[1.9]\n",
            "Actual :24\n",
            "Predicted :20.395079254790037\n",
            "\n",
            "Hours :[9.2]\n",
            "Actual :88\n",
            "Predicted :92.96156979970104\n",
            "\n",
            "Hours :[6.9]\n",
            "Actual :76\n",
            "Predicted :70.09815497048251\n",
            "\n"
          ],
          "name": "stdout"
        }
      ]
    },
    {
      "cell_type": "code",
      "metadata": {
        "colab": {
          "base_uri": "https://localhost:8080/"
        },
        "id": "JU7kJ6w65SLV",
        "outputId": "cb44b03d-5246-47c4-d8da-ae2982274f28"
      },
      "source": [
        "#Model Evaluation\r\n",
        "from sklearn import metrics  \r\n",
        "print('Mean Absolute Error:', metrics.mean_absolute_error(y_test, y_pred)) "
      ],
      "execution_count": null,
      "outputs": [
        {
          "output_type": "stream",
          "text": [
            "Mean Absolute Error: 4.877039354964476\n"
          ],
          "name": "stdout"
        }
      ]
    },
    {
      "cell_type": "code",
      "metadata": {
        "colab": {
          "base_uri": "https://localhost:8080/"
        },
        "id": "NfDaFStH6Bxv",
        "outputId": "f271d4a8-8e3d-4f39-839f-1503136acda4"
      },
      "source": [
        "#Predicting Scores with inputing hours\r\n",
        "hours=[[3],[5],[7.5],[9]]\r\n",
        "prediction = regressor.predict(hours)\r\n",
        "for i in range(len(hours)):\r\n",
        "  print(\"Hours :\"+str(hours[i]))\r\n",
        "  print(\"Scores :\"+str(prediction[i]))\r\n",
        "  print()"
      ],
      "execution_count": null,
      "outputs": [
        {
          "output_type": "stream",
          "text": [
            "Hours :[3]\n",
            "Scores :31.329755912242383\n",
            "\n",
            "Hours :[5]\n",
            "Scores :51.21098619851937\n",
            "\n",
            "Hours :[7.5]\n",
            "Scores :76.06252405636562\n",
            "\n",
            "Hours :[9]\n",
            "Scores :90.97344677107336\n",
            "\n"
          ],
          "name": "stdout"
        }
      ]
    },
    {
      "cell_type": "code",
      "metadata": {
        "id": "aiFVDCFU6jfe"
      },
      "source": [
        ""
      ],
      "execution_count": null,
      "outputs": []
    }
  ]
}